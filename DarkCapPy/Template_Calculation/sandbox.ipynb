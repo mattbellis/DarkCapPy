{
 "cells": [
  {
   "cell_type": "code",
   "execution_count": null,
   "id": "edf9845c-d484-4dbf-a263-68d46256883d",
   "metadata": {},
   "outputs": [],
   "source": [
    "import numpy as np\n",
    "import pandas as pd\n",
    "from scipy.interpolate import interpolate\n",
    "\n",
    "from DarkCapPy import *\n",
    "import DarkCapPy.DarkPhoton as DP\n",
    "\n",
    "import matplotlib.pylab as plt\n",
    "import seaborn as sns\n",
    "\n"
   ]
  },
  {
   "cell_type": "code",
   "execution_count": null,
   "id": "0f9ddd11-331d-47a1-b529-51450972d7a8",
   "metadata": {},
   "outputs": [],
   "source": [
    "#infilename = 'rates_muons_alpha_therm_one_month.parquet'\n",
    "infilename = 'rates_muons_alpha_max_one_month.parquet'\n",
    "\n",
    "df = pd.read_parquet(infilename)\n",
    "df"
   ]
  },
  {
   "cell_type": "code",
   "execution_count": null,
   "id": "9ae6aa8b-5d55-4bc2-a51b-81a03b41324f",
   "metadata": {},
   "outputs": [],
   "source": [
    "filter = df['rate_CMS'] > 50\n",
    "\n",
    "df[filter]"
   ]
  },
  {
   "cell_type": "code",
   "execution_count": null,
   "id": "7df88381-1d52-4258-b1fa-efa3f155d253",
   "metadata": {},
   "outputs": [],
   "source": [
    "df.plot.scatter(x='mx', y='rate_CMS')"
   ]
  },
  {
   "cell_type": "code",
   "execution_count": null,
   "id": "7db69647-6495-4dd7-8017-bc9b56d07ab0",
   "metadata": {},
   "outputs": [],
   "source": [
    "df_max_rates = None\n",
    "for mx_test in np.arange(1000, 11000, 1000):\n",
    "    print(mx_test)\n",
    "    filter = (df['mx']==mx_test) & (df['rate_CMS'] > 10)\n",
    "    \n",
    "    high_rate = df[filter]['rate_CMS'].max()\n",
    "    print(high_rate)\n",
    "\n",
    "    filter = filter & (df['rate_CMS']==high_rate)\n",
    "\n",
    "    if df is None:\n",
    "        df_max_rates = df[filter].copy()\n",
    "    else:\n",
    "        df_max_rates = pd.concat([df_max_rates, df[filter].copy()])"
   ]
  },
  {
   "cell_type": "code",
   "execution_count": null,
   "id": "977cb9e7-6247-4d97-8905-d1ee6fd8884b",
   "metadata": {},
   "outputs": [],
   "source": [
    "df_max_rates"
   ]
  },
  {
   "cell_type": "code",
   "execution_count": null,
   "id": "9b9bed25-ce55-43f8-89b2-5d6cdd85f10f",
   "metadata": {},
   "outputs": [],
   "source": [
    "df_max_rates.to_csv('maximum_rates_at_CMS.csv')"
   ]
  },
  {
   "cell_type": "code",
   "execution_count": null,
   "id": "60de68ac-af0d-48da-be10-a4d6f3be7c5b",
   "metadata": {},
   "outputs": [],
   "source": []
  }
 ],
 "metadata": {
  "kernelspec": {
   "display_name": "Python 3 (ipykernel)",
   "language": "python",
   "name": "python3"
  },
  "language_info": {
   "codemirror_mode": {
    "name": "ipython",
    "version": 3
   },
   "file_extension": ".py",
   "mimetype": "text/x-python",
   "name": "python",
   "nbconvert_exporter": "python",
   "pygments_lexer": "ipython3",
   "version": "3.11.7"
  }
 },
 "nbformat": 4,
 "nbformat_minor": 5
}
