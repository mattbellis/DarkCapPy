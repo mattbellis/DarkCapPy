{
 "cells": [
  {
   "cell_type": "code",
   "execution_count": null,
   "id": "edf9845c-d484-4dbf-a263-68d46256883d",
   "metadata": {},
   "outputs": [],
   "source": [
    "import numpy as np\n",
    "import pandas as pd\n",
    "from scipy.interpolate import interpolate\n",
    "\n",
    "from DarkCapPy import *\n",
    "import DarkCapPy.DarkPhoton as DP\n",
    "\n"
   ]
  },
  {
   "cell_type": "code",
   "execution_count": null,
   "id": "0f9ddd11-331d-47a1-b529-51450972d7a8",
   "metadata": {},
   "outputs": [],
   "source": [
    "mx = 1000\n",
    "ma = 1\n",
    "epsilon = 1e-8\n",
    "alpha = 1/137\n",
    "alphax = 0.035\n",
    "tauCross = DP.tauCross\n",
    "\n",
    "#cap1 = DP.cCap(mx, ma, epsilon, alpha, alphax)\n",
    "kappa0 = DP.kappa_0(mx, alpha)\n",
    "print(kappa0)\n",
    "cap2 = DP.cCapQuick(mx, ma, epsilon, alphax, kappa0)\n",
    "print(cap2)\n",
    "\n",
    "\n",
    "sommerfeld = DP.thermAvgSommerfeld(mx, ma, alphax)\n",
    "sigma = DP.sigmaVtree(mx, ma, alphax)\n",
    "ann = DP.cAnn(mx, sigma, sommerfeld)\n",
    "\n",
    "#tau = DP.tau(cap1, ann)\n",
    "tau = DP.tau(cap2, ann)\n",
    "\n",
    "#gammaAnn = DP.gammaAnn(cap1, ann)\n",
    "gammaAnn = DP.gammaAnn(cap2, ann)\n",
    "\n",
    "\n",
    "L = DP.decayLength(mx, ma, epsilon, 1)\n",
    "Edecay = DP.epsilonDecay(L)\n",
    "\n",
    "signal = DP.iceCubeSignal(gammaAnn, Edecay, DP.yr2s(10))"
   ]
  },
  {
   "cell_type": "code",
   "execution_count": null,
   "id": "9ae6aa8b-5d55-4bc2-a51b-81a03b41324f",
   "metadata": {},
   "outputs": [],
   "source": [
    "#### TEST\n",
    "\n",
    "mx = 1000\n",
    "ma = 1\n",
    "epsilon = 1e-8\n",
    "#alpha = 0\n",
    "alpha = 0.001\n",
    "alphax = 0.035\n",
    "tauCross = DP.tauCross\n",
    "\n",
    "#cap1 = DP.cCap(mx, ma, epsilon, alpha, alphax)\n",
    "kappa0 = DP.kappa_0(mx, alpha)\n",
    "print(kappa0)\n",
    "cap2 = DP.cCapQuick(mx, ma, epsilon, alphax, kappa0)\n",
    "print(cap2)\n",
    "\n",
    "\n",
    "sommerfeld = DP.thermAvgSommerfeld(mx, ma, alphax)\n",
    "sigma = DP.sigmaVtree(mx, ma, alphax)\n",
    "ann = DP.cAnn(mx, sigma, sommerfeld)\n",
    "\n",
    "#tau = DP.tau(cap1, ann)\n",
    "tau = DP.tau(cap2, ann)\n",
    "\n",
    "#gammaAnn = DP.gammaAnn(cap1, ann)\n",
    "gammaAnn = DP.gammaAnn(cap2, ann)\n",
    "\n",
    "\n",
    "L = DP.decayLength(mx, ma, epsilon, 1)\n",
    "Edecay = DP.epsilonDecay(L)\n",
    "\n",
    "signal = DP.iceCubeSignal(gammaAnn, Edecay, DP.yr2s(10))"
   ]
  },
  {
   "cell_type": "code",
   "execution_count": null,
   "id": "7df88381-1d52-4258-b1fa-efa3f155d253",
   "metadata": {},
   "outputs": [],
   "source": []
  }
 ],
 "metadata": {
  "kernelspec": {
   "display_name": "Python 3 (ipykernel)",
   "language": "python",
   "name": "python3"
  },
  "language_info": {
   "codemirror_mode": {
    "name": "ipython",
    "version": 3
   },
   "file_extension": ".py",
   "mimetype": "text/x-python",
   "name": "python",
   "nbconvert_exporter": "python",
   "pygments_lexer": "ipython3",
   "version": "3.11.7"
  }
 },
 "nbformat": 4,
 "nbformat_minor": 5
}
