{
 "cells": [
  {
   "cell_type": "markdown",
   "metadata": {},
   "source": [
    "# DarkCapPy Template\n",
    "\n",
    "Author: Adam Green\n",
    "\n",
    "Email : agree019@ucr.edu\n",
    "\n",
    "Date: 8/7/18"
   ]
  },
  {
   "cell_type": "markdown",
   "metadata": {},
   "source": [
    "## Imports and Initialization"
   ]
  },
  {
   "cell_type": "markdown",
   "metadata": {},
   "source": [
    "In the following, we import the required libraries and define the paths to each data file. "
   ]
  },
  {
   "cell_type": "code",
   "execution_count": null,
   "metadata": {
    "ExecuteTime": {
     "end_time": "2019-06-22T19:53:21.363773Z",
     "start_time": "2019-06-22T19:50:38.710214Z"
    },
    "scrolled": true
   },
   "outputs": [],
   "source": [
    "import numpy as np\n",
    "import pandas as pd\n",
    "from scipy.interpolate import interpolate\n",
    "import matplotlib as mpl\n",
    "import matplotlib.pyplot as plt\n",
    "import matplotlib.style\n",
    "mpl.rcParams.update(mpl.rcParamsDefault)\n",
    "%matplotlib inline\n",
    "from datetime import datetime\n",
    "\n",
    "from DarkCapPy import *\n",
    "import DarkCapPy.DarkPhoton as DP\n",
    "\n",
    "import time\n",
    "\n",
    "###################\n",
    "# Define File Paths\n",
    "###################\n",
    "# These paths are specific to the preset folders in Temp;ate_Caluclation\n",
    "def sommerfeldPath(file):\n",
    "    path = 'Sommerfeld/' + file\n",
    "    return path\n",
    "\n",
    "def branchPath(file):\n",
    "    path = 'Branching_Ratio/' + file\n",
    "    return path\n",
    "\n",
    "def signalPath(file):\n",
    "    path = 'Signal/' + file\n",
    "    return path\n",
    "    \n",
    "def signalBackupPath(file):\n",
    "    path = 'Signal/Signal_Backups/' + file\n",
    "    return path\n",
    "\n",
    "print ('Complete')"
   ]
  },
  {
   "cell_type": "code",
   "execution_count": null,
   "metadata": {},
   "outputs": [],
   "source": [
    "# Check to make sure we are using the correct versions of thing\n",
    "\n",
    "# The Earth is about 6000 km in radius\n",
    "\n",
    "print(f'Planet mass:   {DP.Planet_Mass} grams')\n",
    "print(f'Planet radius: {DP.Planet_Radius} cm')\n",
    "print(f'Planet radius: {DP.Planet_Radius/1e5} km')"
   ]
  },
  {
   "cell_type": "code",
   "execution_count": 1,
   "metadata": {},
   "outputs": [],
   "source": [
    "# Tests of code\n",
    "# Run this just to test the calculations for a single value of kappa0\n",
    "'''\n",
    "alpha = 1.0/137\n",
    "mx = 1000\n",
    "\n",
    "kappa0 = DP.kappa_0(mx, alpha)\n",
    "print(kappa0)\n",
    "''';"
   ]
  },
  {
   "cell_type": "code",
   "execution_count": null,
   "metadata": {},
   "outputs": [],
   "source": [
    "mxs = np.linspace(1000, 10000, 46).tolist()\n",
    "mxs"
   ]
  },
  {
   "cell_type": "code",
   "execution_count": null,
   "metadata": {},
   "outputs": [],
   "source": [
    "mx = 1000\n",
    "ma = 1\n",
    "epsilon = 1e-8\n",
    "alpha = 1./137\n",
    "alphax = 0.035\n",
    "tauCross = DP.tauCross\n",
    "#mxs = [10, 100, 1000, 10000]\n",
    "\n",
    "\n",
    "# Full range from 10 to 1e6, logarithmically\n",
    "'''\n",
    "mxs = np.linspace(10, 90, 9).tolist()\n",
    "mxs += np.linspace(100, 900, 9).tolist()\n",
    "mxs += np.linspace(1000, 9000, 9).tolist()\n",
    "mxs += np.linspace(10000, 90000, 9).tolist()\n",
    "mxs += np.linspace(100000, 1000000, 10).tolist()\n",
    "'''\n",
    "# Narrower range\n",
    "mxs = np.linspace(1000, 10000, 46).tolist()\n",
    "\n",
    "#mxs = [100.0]\n",
    "\n",
    "#mydict = {\"mx\": [], \"kappa0\": [], \"cCap\": [], \"cCapQuick\": []}\n",
    "mydict = {\"mx\": [], \"kappa0\": []}\n",
    "\n",
    "for mx in mxs:\n",
    "\n",
    "    mydict['mx'].append(mx)\n",
    "    \n",
    "    start = time.time()\n",
    "    print(f\"Starting kappa0... for mX = {mx}\")    \n",
    "    kappa0 = DP.kappa_0(mx, alpha)\n",
    "    print(f\"Finished in {time.time() - start:.2f} seconds\")\n",
    "\n",
    "    '''\n",
    "    print(\"Starting cCap...\")    \n",
    "    cap1 = DP.cCap(mx,ma,epsilon,alpha,alphax)\n",
    "    print(f\"Finished in {time.time() - start:.2f} seconds\")\n",
    "\n",
    "    print(\"StartingcCapQuick...\")\n",
    "    cap2 = DP.cCapQuick(mx,ma,epsilon,alphax,kappa0)\n",
    "    print(f\"Finished in {time.time() - start:.2f} seconds\")\n",
    "    '''\n",
    "    \n",
    "    print ('Kappa_0              :', kappa0)\n",
    "    #print ('Capture_1            :', cap1)\n",
    "    #print ('Capture_2            :', cap2)\n",
    "\n",
    "    mydict['kappa0'].append(kappa0)\n",
    "    #mydict['cCap'].append(cap1)\n",
    "    #mydict['cCapQuick'].append(cap2)\n",
    "\n",
    "\n",
    "print(mydict)\n",
    "\n",
    "df = pd.DataFrame.from_dict(mydict)\n",
    "\n",
    "df.to_parquet('different_kappas_TEST_SUBTESTS_SO_I_DONT_OVERWRITE.parquet')\n",
    "\n",
    "df\n",
    "\n"
   ]
  },
  {
   "cell_type": "code",
   "execution_count": null,
   "metadata": {},
   "outputs": [],
   "source": []
  },
  {
   "cell_type": "code",
   "execution_count": null,
   "metadata": {},
   "outputs": [],
   "source": []
  },
  {
   "cell_type": "code",
   "execution_count": null,
   "metadata": {},
   "outputs": [],
   "source": []
  },
  {
   "cell_type": "code",
   "execution_count": null,
   "metadata": {},
   "outputs": [],
   "source": []
  },
  {
   "cell_type": "code",
   "execution_count": null,
   "metadata": {},
   "outputs": [],
   "source": []
  }
 ],
 "metadata": {
  "kernelspec": {
   "display_name": "Python 3 (ipykernel)",
   "language": "python",
   "name": "python3"
  },
  "language_info": {
   "codemirror_mode": {
    "name": "ipython",
    "version": 3
   },
   "file_extension": ".py",
   "mimetype": "text/x-python",
   "name": "python",
   "nbconvert_exporter": "python",
   "pygments_lexer": "ipython3",
   "version": "3.11.7"
  },
  "latex_envs": {
   "LaTeX_envs_menu_present": true,
   "autocomplete": false,
   "bibliofile": "biblio.bib",
   "cite_by": "apalike",
   "current_citInitial": 1,
   "eqLabelWithNumbers": true,
   "eqNumInitial": 1,
   "hotkeys": {
    "equation": "Ctrl-E",
    "itemize": "Ctrl-I"
   },
   "labels_anchors": false,
   "latex_user_defs": false,
   "report_style_numbering": false,
   "user_envs_cfg": false
  }
 },
 "nbformat": 4,
 "nbformat_minor": 4
}
